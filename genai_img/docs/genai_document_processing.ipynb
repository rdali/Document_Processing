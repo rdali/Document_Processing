{
 "cells": [
  {
   "cell_type": "markdown",
   "id": "terminal-preliminary",
   "metadata": {},
   "source": [
    "# GenAI Document Processing: Expense processing:"
   ]
  },
  {
   "cell_type": "markdown",
   "id": "flush-spoke",
   "metadata": {},
   "source": [
    "Based on the AWS Blog: https://aws.amazon.com/blogs/machine-learning/intelligent-document-processing-using-amazon-bedrock-and-anthropic-claude/"
   ]
  },
  {
   "cell_type": "code",
   "execution_count": 2,
   "id": "infectious-humidity",
   "metadata": {},
   "outputs": [],
   "source": [
    "import boto3\n",
    "import json\n",
    "import base64"
   ]
  },
  {
   "cell_type": "code",
   "execution_count": 3,
   "id": "purple-blink",
   "metadata": {},
   "outputs": [],
   "source": [
    "s3 = boto3.client('s3', region_name='us-east-1')\n",
    "bedrock = boto3.client('bedrock-runtime', region_name='us-east-1')\n",
    "\n",
    "MODEL_ID = \"anthropic.claude-3-sonnet-20240229-v1:0\"\n"
   ]
  },
  {
   "cell_type": "code",
   "execution_count": 8,
   "id": "concrete-toronto",
   "metadata": {},
   "outputs": [],
   "source": [
    "# image_data = s3.get_object(Bucket=bucket_name, Key=object_key)['Body'].read()\n",
    "\n",
    "image_file = \"./test_invoice.png\"\n",
    "\n",
    "with open(image_file, \"rb\") as image:\n",
    "  img = image.read()\n",
    "  img_bytes = bytearray(img)\n",
    "\n",
    "base64_image = base64.b64encode(img_bytes).decode('utf-8')\n"
   ]
  },
  {
   "cell_type": "code",
   "execution_count": 9,
   "id": "leading-radical",
   "metadata": {},
   "outputs": [],
   "source": [
    "# prompt:\n",
    "\n",
    "prompt = \"\"\"\n",
    "This image shows a an invoice. \n",
    "Please precisely copy all the relevant information from the form.\n",
    "Leave the field blank if there is no information in corresponding field.\n",
    "If the image is not an invoice, simply return an empty JSON object. \n",
    "If the invoice is not filled, leave the fees attributes blank. \n",
    "Translate any non-English text to English. \n",
    "Organize and return the extracted data in a JSON format with the following keys:\n",
    "{\n",
    "    \"InvoiceDetails\":{\n",
    "        \"invoiceNum\": \"\",\n",
    "        \"date\": \"\",\n",
    "        \"billToAddress\": \"\",\n",
    "        \"city\": \"\",\n",
    "        \"state\": \"\",\n",
    "        \"zipCode\": \"\",\n",
    "        \"phone\": \"\",\n",
    "        \"email\":\"\"\n",
    "    },\n",
    "    \"items\":[{\n",
    "        \"ItemDescription\": \"\",\n",
    "        \"quantity\": \"\",\n",
    "        \"unitPrice\": \"\",\n",
    "        \"amount\": \"\",\n",
    "    }\n",
    "    ],\n",
    "    \"total\": \"\",\n",
    "    \"currency\": \"\"\n",
    "  }\n",
    "\"\"\" \n",
    "\n"
   ]
  },
  {
   "cell_type": "code",
   "execution_count": 10,
   "id": "solid-armstrong",
   "metadata": {},
   "outputs": [],
   "source": [
    "def invoke_claude_3_multimodal(prompt, base64_image_data):\n",
    "    request_body = {\n",
    "        \"anthropic_version\": \"bedrock-2023-05-31\",\n",
    "        \"max_tokens\": 2048,\n",
    "        \"messages\": [\n",
    "            {\n",
    "                \"role\": \"user\",\n",
    "                \"content\": [\n",
    "                    {\n",
    "                        \"type\": \"text\",\n",
    "                        \"text\": prompt,\n",
    "                    },\n",
    "                    {\n",
    "                        \"type\": \"image\",\n",
    "                        \"source\": {\n",
    "                            \"type\": \"base64\",\n",
    "                            \"media_type\": \"image/png\",\n",
    "                            \"data\": base64_image_data,\n",
    "                        },\n",
    "                    },\n",
    "                ],\n",
    "            }\n",
    "        ],\n",
    "    }\n",
    "\n",
    "    try:\n",
    "        response = bedrock.invoke_model(modelId=MODEL_ID, body=json.dumps(request_body))\n",
    "        return json.loads(response['body'].read())\n",
    "    except bedrock.exceptions.ClientError as err:\n",
    "        print(f\"Couldn't invoke Claude 3 Sonnet. Here's why: {err.response['Error']['Code']}: {err.response['Error']['Message']}\")\n",
    "        raise\n"
   ]
  },
  {
   "cell_type": "code",
   "execution_count": 11,
   "id": "amazing-morrison",
   "metadata": {},
   "outputs": [],
   "source": [
    "response = invoke_claude_3_multimodal(prompt, base64_image)"
   ]
  },
  {
   "cell_type": "code",
   "execution_count": 12,
   "id": "higher-venture",
   "metadata": {},
   "outputs": [
    {
     "data": {
      "text/plain": [
       "{'id': 'msg_bdrk_01Yazczd9NPrfmptKiFTy5CC',\n",
       " 'type': 'message',\n",
       " 'role': 'assistant',\n",
       " 'model': 'claude-3-sonnet-20240229',\n",
       " 'content': [{'type': 'text',\n",
       "   'text': '{\\n    \"InvoiceDetails\": {\\n        \"invoiceNum\": \"2170\",\\n        \"date\": \"2017/09/29\",\\n        \"billToAddress\": \"Mellicent Ivoshin Dynazzy 37 Carpenter Court Sinilian First\",\\n        \"city\": \"\",\\n        \"state\": \"\",\\n        \"zipCode\": \"560-390-2703\",\\n        \"phone\": \"\",\\n        \"email\": \"mivoshincp@gravatar.com\"\\n    },\\n    \"items\": [\\n        {\\n            \"ItemDescription\": \"Service Fee\",\\n            \"quantity\": \"6\",\\n            \"unitPrice\": \"200.00\",\\n            \"amount\": \"1 200.00\"\\n        },\\n        {\\n            \"ItemDescription\": \"Additional Services\", \\n            \"quantity\": \"7\",\\n            \"unitPrice\": \"75.00\",\\n            \"amount\": \"525.00\"\\n        }\\n    ],\\n    \"total\": \"1 725.00\",\\n    \"currency\": \"$\"\\n}'}],\n",
       " 'stop_reason': 'end_turn',\n",
       " 'stop_sequence': None,\n",
       " 'usage': {'input_tokens': 1788, 'output_tokens': 243}}"
      ]
     },
     "execution_count": 12,
     "metadata": {},
     "output_type": "execute_result"
    }
   ],
   "source": [
    "response"
   ]
  },
  {
   "cell_type": "code",
   "execution_count": 13,
   "id": "rocky-blind",
   "metadata": {},
   "outputs": [
    {
     "name": "stdout",
     "output_type": "stream",
     "text": [
      "{\n",
      "    \"InvoiceDetails\": {\n",
      "        \"invoiceNum\": \"2170\",\n",
      "        \"date\": \"2017/09/29\",\n",
      "        \"billToAddress\": \"Mellicent Ivoshin Dynazzy 37 Carpenter Court Sinilian First\",\n",
      "        \"city\": \"\",\n",
      "        \"state\": \"\",\n",
      "        \"zipCode\": \"560-390-2703\",\n",
      "        \"phone\": \"\",\n",
      "        \"email\": \"mivoshincp@gravatar.com\"\n",
      "    },\n",
      "    \"items\": [\n",
      "        {\n",
      "            \"ItemDescription\": \"Service Fee\",\n",
      "            \"quantity\": \"6\",\n",
      "            \"unitPrice\": \"200.00\",\n",
      "            \"amount\": \"1 200.00\"\n",
      "        },\n",
      "        {\n",
      "            \"ItemDescription\": \"Additional Services\", \n",
      "            \"quantity\": \"7\",\n",
      "            \"unitPrice\": \"75.00\",\n",
      "            \"amount\": \"525.00\"\n",
      "        }\n",
      "    ],\n",
      "    \"total\": \"1 725.00\",\n",
      "    \"currency\": \"$\"\n",
      "}\n"
     ]
    }
   ],
   "source": [
    "print(response[\"content\"][0][\"text\"])"
   ]
  }
 ],
 "metadata": {
  "kernelspec": {
   "display_name": "Python 3",
   "language": "python",
   "name": "python3"
  },
  "language_info": {
   "codemirror_mode": {
    "name": "ipython",
    "version": 3
   },
   "file_extension": ".py",
   "mimetype": "text/x-python",
   "name": "python",
   "nbconvert_exporter": "python",
   "pygments_lexer": "ipython3",
   "version": "3.11.11"
  }
 },
 "nbformat": 4,
 "nbformat_minor": 5
}
